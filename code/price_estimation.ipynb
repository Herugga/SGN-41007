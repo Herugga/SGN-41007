{
 "cells": [
  {
   "cell_type": "markdown",
   "metadata": {},
   "source": [
    "# House price estimation"
   ]
  },
  {
   "cell_type": "markdown",
   "metadata": {},
   "source": [
    "Let's study how we can use linear regression _i.e.,_ least squares fitting to estimate house prices in Hervanta region. The data is downloaded from http://asuntojen.hintatiedot.fi/haku/, copied to excel, cleaned and saved as `csv`. The data looks as follows."
   ]
  },
  {
   "cell_type": "markdown",
   "metadata": {},
   "source": [
    "num_rooms|type|sqm|eur/sqm|year|elevator|condition\n",
    "---|---|---|---|---|---|---\n",
    "1|kt|31,5|2413|1974|on|hyvä\n",
    "1|rt|37|3405|2018|ei|hyvä\n",
    "1|kt|30|3683|1990|on|tyyd.\n",
    "1|kt|35|2343|1981|on|tyyd.\n",
    "1|kt|32|2656|1977|on|hyvä"
   ]
  },
  {
   "cell_type": "markdown",
   "metadata": {},
   "source": [
    "First, let's import the required libraries. We are using `scikit-learn` exclusively here."
   ]
  },
  {
   "cell_type": "code",
   "execution_count": 2,
   "metadata": {
    "collapsed": true
   },
   "outputs": [],
   "source": [
    "import numpy as np\n",
    "from sklearn.preprocessing import LabelBinarizer\n",
    "from sklearn.linear_model import LinearRegression\n",
    "from sklearn.model_selection import train_test_split\n",
    "from sklearn.metrics import mean_absolute_error"
   ]
  },
  {
   "cell_type": "markdown",
   "metadata": {},
   "source": [
    "Load data line by line. Attributes (apt. size, year, etc) are added to X, and the target (actual selling price per sqm) to y. "
   ]
  },
  {
   "cell_type": "code",
   "execution_count": 3,
   "metadata": {
    "collapsed": true
   },
   "outputs": [],
   "source": [
    "file = \"prices.csv\"\n",
    "\n",
    "X = []\n",
    "y = []\n",
    "\n",
    "with open(file, \"r\") as f:\n",
    "    for line in f:\n",
    "        \n",
    "        # Skip first line\n",
    "        if line.startswith(\"num_rooms\"):\n",
    "            continue\n",
    "        \n",
    "        parts = line.strip().split(\";\")\n",
    "        \n",
    "        rooms = int(parts[0])\n",
    "        kind  = parts[1]\n",
    "        \n",
    "        # Numbers use Finnish locale with decimals separated by comma.\n",
    "        # Just use replace(), although the proper way would be with\n",
    "        # locale module.\n",
    "        \n",
    "        sqm   = float(parts[2].replace(\",\", \".\"))\n",
    "        price = float(parts[3])\n",
    "        year  = int(parts[4])\n",
    "        elev  = parts[5]\n",
    "        cond  = parts[6]\n",
    "        \n",
    "        X.append([rooms, kind, sqm, year, elev, cond])\n",
    "        y.append(price)\n",
    "        \n",
    "X = np.array(X)\n",
    "y = np.array(y)"
   ]
  },
  {
   "cell_type": "markdown",
   "metadata": {},
   "source": [
    "Some columns are categorical, so we need to encode those as dummy indicator variables. For example, `condition = {good, satisfactory, bad}` is encoded into three binary (numerical) variables: `is_good`, `is_satisfactory` and `is_bad`."
   ]
  },
  {
   "cell_type": "code",
   "execution_count": 4,
   "metadata": {
    "collapsed": true
   },
   "outputs": [],
   "source": [
    "binarized_cols = [1, 4, 5]\n",
    "\n",
    "for col in binarized_cols:\n",
    "    lb = LabelBinarizer()\n",
    "    z = lb.fit_transform(X[:, col])\n",
    "    X = np.append(X, z, axis = 1)\n",
    "    \n",
    "for col in binarized_cols[::-1]: \n",
    "    X = np.delete(X, col, axis = 1)\n",
    "\n",
    "X = X.astype(float)\n",
    "y = y.astype(float)"
   ]
  },
  {
   "cell_type": "markdown",
   "metadata": {},
   "source": [
    "Next, split the data into training and testing to evaluate the performance of our regression model."
   ]
  },
  {
   "cell_type": "code",
   "execution_count": 5,
   "metadata": {
    "collapsed": true
   },
   "outputs": [],
   "source": [
    "X_train, X_test, y_train, y_test = train_test_split(X, y, test_size=0.2, random_state=42)"
   ]
  },
  {
   "cell_type": "markdown",
   "metadata": {},
   "source": [
    "Fit the regression model and predict."
   ]
  },
  {
   "cell_type": "code",
   "execution_count": 6,
   "metadata": {
    "collapsed": true
   },
   "outputs": [],
   "source": [
    "model = LinearRegression()\n",
    "model.fit(X_train, y_train)\n",
    "y_pred = model.predict(X_test)"
   ]
  },
  {
   "cell_type": "markdown",
   "metadata": {},
   "source": [
    "Let's see how we did with the first five test apartments:"
   ]
  },
  {
   "cell_type": "markdown",
   "metadata": {},
   "source": [
    "num_rooms|type|sqm|eur/sqm|year|elevator|condition|prediction|error\n",
    "---|---|---|---|---|---|---|---|--\n",
    "3|rt|75,5|1762|1978|ei|hyvä|1654.3|107.6\n",
    "3|kt|63|2190|2004|on|hyvä|2402.0|212.0\n",
    "3|rt|77|2948|2017|ei|hyvä|2972.7|24.7\n",
    "2|kt|58|1483|1974|on|hyvä|1571.0|88.0\n",
    "2|kt|58|1379|1974|on|hyvä|1571.0|192.0"
   ]
  },
  {
   "cell_type": "markdown",
   "metadata": {},
   "source": [
    "Compute the mean error of prediction at the test whole partition."
   ]
  },
  {
   "cell_type": "code",
   "execution_count": 7,
   "metadata": {
    "scrolled": true
   },
   "outputs": [
    {
     "name": "stdout",
     "output_type": "stream",
     "text": [
      "Mean absolute error: 274.5 eur/sqm\n",
      "Average prediction error: -19.1 eur/sqm\n"
     ]
    }
   ],
   "source": [
    "error = mean_absolute_error(y_test, y_pred)\n",
    "print(\"Mean absolute error: {:.1f} eur/sqm\".format(error))\n",
    "\n",
    "mean_difference = np.mean(y_pred - y_test)\n",
    "print(\"Average prediction error: {:.1f} eur/sqm\".format(mean_difference))"
   ]
  },
  {
   "cell_type": "markdown",
   "metadata": {},
   "source": [
    "Our model coefficients are the following:"
   ]
  },
  {
   "cell_type": "markdown",
   "metadata": {},
   "source": [
    "num_rooms|sqm|year|is_apt_building|is_house|is_row_house|no_elevator|has_elevator|is_good|is_bad\n",
    "---|---|---|---|---|---|---|---|---|---\n",
    "-154.06459911|-7.54989771|34.09409129|-374.30893573|570.79730825|-196.48837252|-55.32978503|52.2093088|38.80866212|-91.01797094"
   ]
  },
  {
   "cell_type": "markdown",
   "metadata": {},
   "source": [
    "It seems the accuracy is somewhat reasonable given the simplicity of the model. Moreover, the coefficients make sense: unit price for larger apartments tends to decrease, elevator increases the price by about 100 €, etc."
   ]
  }
 ],
 "metadata": {
  "kernelspec": {
   "display_name": "Python 3",
   "language": "python",
   "name": "python3"
  },
  "language_info": {
   "codemirror_mode": {
    "name": "ipython",
    "version": 3
   },
   "file_extension": ".py",
   "mimetype": "text/x-python",
   "name": "python",
   "nbconvert_exporter": "python",
   "pygments_lexer": "ipython3",
   "version": "3.6.6"
  }
 },
 "nbformat": 4,
 "nbformat_minor": 2
}
