{
 "cells": [
  {
   "cell_type": "markdown",
   "metadata": {},
   "source": [
    "## Training a logistic regression model for 2D data with pytorch"
   ]
  },
  {
   "cell_type": "markdown",
   "metadata": {},
   "source": [
    "In this example, we define a logistic regression model for classifying 2-dimensional vectors to two classes.\n",
    "\n",
    "Let's first load our data from csv files."
   ]
  },
  {
   "cell_type": "code",
   "execution_count": 1,
   "metadata": {
    "collapsed": true
   },
   "outputs": [],
   "source": [
    "import numpy as np\n",
    "\n",
    "# Load data\n",
    "\n",
    "X = np.loadtxt(\"X.csv\", delimiter = \",\").astype(np.float32)\n",
    "y = np.loadtxt(\"y.csv\", delimiter = \",\").astype(np.float32)\n",
    "y[y == -1] = 0"
   ]
  },
  {
   "cell_type": "markdown",
   "metadata": {},
   "source": [
    "The next step is to define our classification model. We use the torch Module and redefine the forward step consisting of a linear projection (2D -> 1D; no bias term) followed by logistic sigmoid."
   ]
  },
  {
   "cell_type": "code",
   "execution_count": 2,
   "metadata": {
    "collapsed": true
   },
   "outputs": [],
   "source": [
    "import torch\n",
    "\n",
    "# Define our model (logistic regression)\n",
    "\n",
    "class LogReg(torch.nn.Module):\n",
    "\n",
    "    def __init__(self):\n",
    "        \n",
    "        super(LogReg, self).__init__()\n",
    "        \n",
    "        # Define network components\n",
    "        self.projection = torch.nn.Linear(2, 1, bias = False) # From 2d to 1d\n",
    "        self.activation = torch.nn.Sigmoid()\n",
    "        \n",
    "    def forward(self, x):\n",
    "        # Define the full pipeline\n",
    "        \n",
    "        y = self.projection(x)\n",
    "        y = self.activation(y)\n",
    "        \n",
    "        return y"
   ]
  },
  {
   "cell_type": "markdown",
   "metadata": {},
   "source": [
    "Now we are ready to train the logreg model. We need to cast our numpy data to a torch tensor and initialize the weights to zero (for reproducibility)."
   ]
  },
  {
   "cell_type": "code",
   "execution_count": 3,
   "metadata": {},
   "outputs": [
    {
     "data": {
      "image/png": "[encoded data removed]",
      "text/plain": [
       "<matplotlib.figure.Figure at 0x1b8589119e8>"
      ]
     },
     "metadata": {},
     "output_type": "display_data"
    }
   ],
   "source": [
    "import matplotlib.pyplot as plt\n",
    "from sklearn.metrics import accuracy_score\n",
    "\n",
    "# Initialize the model and inputs\n",
    "\n",
    "model = LogReg()\n",
    "input  = torch.from_numpy(X)\n",
    "target = torch.from_numpy(y)\n",
    "model.projection.weight.data.fill_(0.0)\n",
    "\n",
    "# Define loss function. (Binary) cross entropy loss is another name for logistic loss.\n",
    "\n",
    "loss_function = torch.nn.BCELoss()\n",
    "\n",
    "weight_history = [[0, 0]]\n",
    "acc_history    = []\n",
    "\n",
    "for _ in range(1000):\n",
    "\n",
    "    # Feed all samples\n",
    "    y_pred = model(input)\n",
    "    y_true = target.view(-1,1)\n",
    "\n",
    "    # Compute loss...\n",
    "    loss = loss_function(y_pred, y_true)\n",
    "    \n",
    "    # ...and gradient\n",
    "    model.zero_grad()\n",
    "    loss.backward()\n",
    "\n",
    "    # Apply the gradient step to all parameters\n",
    "    learning_rate = 0.1\n",
    "    for p in model.parameters():\n",
    "\n",
    "        p.data -= p.grad.data * learning_rate\n",
    "\n",
    "    weight_history.append(model.projection.weight.detach().numpy().ravel().copy())\n",
    "    \n",
    "    # Compute the classification accuracy\n",
    "    y_pred = y_pred.detach().numpy()\n",
    "    \n",
    "    accuracy = accuracy_score(np.round(y_pred), y_true)\n",
    "    acc_history.append(accuracy)\n",
    "    \n",
    "weight_history = np.array(weight_history)\n",
    "\n",
    "fig, ax = plt.subplots(1, 2)\n",
    "ax[0].plot(weight_history[:, 0], weight_history[:, 1], 'ro-')    \n",
    "ax[0].set_title(\"Weights\")\n",
    "ax[0].set_xlabel(\"w[0]\")\n",
    "ax[0].set_ylabel(\"w[1]\")\n",
    "\n",
    "ax[1].plot(acc_history)\n",
    "ax[1].set_title(\"Accuracy\")\n",
    "ax[1].set_xlabel(\"Epoch\")\n",
    "\n",
    "plt.show()"
   ]
  }
 ],
 "metadata": {
  "kernelspec": {
   "display_name": "Python 3",
   "language": "python",
   "name": "python3"
  },
  "language_info": {
   "codemirror_mode": {
    "name": "ipython",
    "version": 3
   },
   "file_extension": ".py",
   "mimetype": "text/x-python",
   "name": "python",
   "nbconvert_exporter": "python",
   "pygments_lexer": "ipython3",
   "version": "3.6.6"
  }
 },
 "nbformat": 4,
 "nbformat_minor": 2
}
