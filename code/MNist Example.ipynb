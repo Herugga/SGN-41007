{
 "cells": [
  {
   "cell_type": "code",
   "execution_count": null,
   "metadata": {},
   "outputs": [
    {
     "name": "stdout",
     "output_type": "stream",
     "text": [
      "Train on 60000 samples, validate on 10000 samples\n",
      "Epoch 1/10\n",
      " 3712/60000 [>.............................] - ETA: 3:16 - loss: 0.5518 - acc: 0.8287"
     ]
    }
   ],
   "source": [
    "# Training code\n",
    "\n",
    "from tensorflow.keras.datasets import mnist\n",
    "from tensorflow.keras.models import Sequential\n",
    "from tensorflow.keras.layers import Dense, Activation, Flatten, Conv2D, MaxPooling2D\n",
    "from tensorflow.keras.utils import to_categorical\n",
    "import numpy as np\n",
    "import os\n",
    "\n",
    "# We use the handwritten digit database \"MNIST\".\n",
    "# 60000 training and 10000 test images of\n",
    "# size 28x28\n",
    "(X_train, y_train), (X_test, y_test) = mnist.load_data()\n",
    "\n",
    "# Keras assumes 4D input, but MNIST is lacking color channel.\n",
    "# -> Add a dummy dimension at the end.\n",
    "\n",
    "X_train = X_train[..., np.newaxis] / 255.0\n",
    "X_test  = X_test[..., np.newaxis] / 255.0\n",
    "\n",
    "# Output has to be one-hot-encoded\n",
    "y_train = to_categorical(y_train)\n",
    "y_test  = to_categorical(y_test)\n",
    "\n",
    "num_featmaps = 32   # This many filters per layer\n",
    "num_classes = 10    # Digits 0,1,...,9\n",
    "num_epochs = 50     # Show all samples 50 times\n",
    "w, h = 5, 5         # Conv window size\n",
    "\n",
    "model = Sequential()\n",
    "\n",
    "# Layer 1: needs input_shape as well.\n",
    "model.add(Conv2D(num_featmaps, (w, h),\n",
    "          input_shape=(28, 28, 1),\n",
    "          activation = 'relu'))\n",
    "\n",
    "# Layer 2:\n",
    "model.add(Conv2D(num_featmaps, (w, h), activation = 'relu'))\n",
    "model.add(MaxPooling2D(pool_size=(2, 2)))\n",
    "\n",
    "# Layer 3: dense layer with 128 nodes\n",
    "# Flatten() vectorizes the data:\n",
    "# 32x10x10 -> 3200\n",
    "# (10x10 instead of 14x14 due to border effect)\n",
    "model.add(Flatten())\n",
    "model.add(Dense(128, activation = 'relu'))\n",
    "\n",
    "# Layer 4: Last layer producing 10 outputs.\n",
    "model.add(Dense(num_classes, activation='softmax'))\n",
    "\n",
    "# Compile and train\n",
    "model.compile(loss='categorical_crossentropy',\n",
    "              optimizer='adam',\n",
    "              metrics = ['accuracy'])\n",
    "\n",
    "model.fit(X_train, y_train, epochs = 10,\n",
    "          validation_data = (X_test, y_test))"
   ]
  },
  {
   "cell_type": "code",
   "execution_count": null,
   "metadata": {},
   "outputs": [
    {
     "name": "stdout",
     "output_type": "stream",
     "text": [
      "Train on 60000 samples, validate on 10000 samples\n",
      "Epoch 1/10\n",
      "60000/60000 [==============================] - 192s 3ms/step - loss: 0.1048 - acc: 0.9676 - val_loss: 0.0417 - val_acc: 0.9854\n",
      "Epoch 2/10\n",
      "26112/60000 [============>.................] - ETA: 2:00 - loss: 0.0404 - acc: 0.9876"
     ]
    }
   ],
   "source": []
  }
 ],
 "metadata": {
  "kernelspec": {
   "display_name": "Python 3",
   "language": "python",
   "name": "python3"
  },
  "language_info": {
   "codemirror_mode": {
    "name": "ipython",
    "version": 3
   },
   "file_extension": ".py",
   "mimetype": "text/x-python",
   "name": "python",
   "nbconvert_exporter": "python",
   "pygments_lexer": "ipython3",
   "version": "3.6.6"
  }
 },
 "nbformat": 4,
 "nbformat_minor": 2
}
